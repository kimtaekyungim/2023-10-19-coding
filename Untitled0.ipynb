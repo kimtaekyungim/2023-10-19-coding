{
  "nbformat": 4,
  "nbformat_minor": 0,
  "metadata": {
    "colab": {
      "provenance": [],
      "authorship_tag": "ABX9TyML1cOMtlMMpXBxpX18VRDN",
      "include_colab_link": true
    },
    "kernelspec": {
      "name": "python3",
      "display_name": "Python 3"
    },
    "language_info": {
      "name": "python"
    }
  },
  "cells": [
    {
      "cell_type": "markdown",
      "metadata": {
        "id": "view-in-github",
        "colab_type": "text"
      },
      "source": [
        "<a href=\"https://colab.research.google.com/github/kimtaekyungim/2023-10-19-coding/blob/main/Untitled0.ipynb\" target=\"_parent\"><img src=\"https://colab.research.google.com/assets/colab-badge.svg\" alt=\"Open In Colab\"/></a>"
      ]
    },
    {
      "cell_type": "markdown",
      "source": [
        "1. 사용자로부터 세개의 값 xyx를 입력받아서 1씩 각각 1씩 증가하도록 출력되는 코드를 입력하시오"
      ],
      "metadata": {
        "id": "wHtCQIM6HTmW"
      }
    },
    {
      "cell_type": "code",
      "execution_count": 3,
      "metadata": {
        "colab": {
          "base_uri": "https://localhost:8080/",
          "height": 313
        },
        "id": "QyRz2qCsHRh1",
        "outputId": "61dd0afa-4db0-4326-ccb0-04994150336e"
      },
      "outputs": [
        {
          "name": "stdout",
          "output_type": "stream",
          "text": [
            "x의 값을 입력하시오 1\n",
            "y의 값을 입력하시오 2\n",
            "z의 값을 입력하시오 3\n"
          ]
        },
        {
          "output_type": "error",
          "ename": "NameError",
          "evalue": "ignored",
          "traceback": [
            "\u001b[0;31m---------------------------------------------------------------------------\u001b[0m",
            "\u001b[0;31mNameError\u001b[0m                                 Traceback (most recent call last)",
            "\u001b[0;32m<ipython-input-3-0cb855f819b4>\u001b[0m in \u001b[0;36m<cell line: 4>\u001b[0;34m()\u001b[0m\n\u001b[1;32m      2\u001b[0m \u001b[0mint\u001b[0m\u001b[0;34m(\u001b[0m\u001b[0minput\u001b[0m\u001b[0;34m(\u001b[0m\u001b[0;34m\"y의 값을 입력하시오 \"\u001b[0m\u001b[0;34m)\u001b[0m\u001b[0;34m)\u001b[0m\u001b[0;34m\u001b[0m\u001b[0;34m\u001b[0m\u001b[0m\n\u001b[1;32m      3\u001b[0m \u001b[0mint\u001b[0m\u001b[0;34m(\u001b[0m\u001b[0minput\u001b[0m\u001b[0;34m(\u001b[0m\u001b[0;34m\"z의 값을 입력하시오 \"\u001b[0m\u001b[0;34m)\u001b[0m\u001b[0;34m)\u001b[0m\u001b[0;34m\u001b[0m\u001b[0;34m\u001b[0m\u001b[0m\n\u001b[0;32m----> 4\u001b[0;31m \u001b[0mx\u001b[0m  \u001b[0;34m=\u001b[0m  \u001b[0mx\u001b[0m  \u001b[0;34m+\u001b[0m \u001b[0;36m1\u001b[0m\u001b[0;34m\u001b[0m\u001b[0;34m\u001b[0m\u001b[0m\n\u001b[0m\u001b[1;32m      5\u001b[0m \u001b[0my\u001b[0m  \u001b[0;34m=\u001b[0m  \u001b[0my\u001b[0m  \u001b[0;34m+\u001b[0m \u001b[0;36m1\u001b[0m\u001b[0;34m\u001b[0m\u001b[0;34m\u001b[0m\u001b[0m\n\u001b[1;32m      6\u001b[0m \u001b[0mz\u001b[0m  \u001b[0;34m=\u001b[0m  \u001b[0mz\u001b[0m \u001b[0;34m+\u001b[0m\u001b[0;36m1\u001b[0m\u001b[0;34m\u001b[0m\u001b[0;34m\u001b[0m\u001b[0m\n",
            "\u001b[0;31mNameError\u001b[0m: name 'x' is not defined"
          ]
        }
      ],
      "source": [
        "int(input(\"x의 값을 입력하시오 \"))\n",
        "int(input(\"y의 값을 입력하시오 \"))\n",
        "int(input(\"z의 값을 입력하시오 \"))\n",
        "x  =  x  + 1\n",
        "y  =  y  + 1\n",
        "z  =  z +1\n",
        "print('x의 값은 (x)이며 , y의 값은 (y)이고 , z의 값은 (z)이다')\n"
      ]
    },
    {
      "cell_type": "markdown",
      "source": [
        "2. 알바생의 시습을 계산하여 알바생의 월급을 출력하는 코드"
      ],
      "metadata": {
        "id": "mMZXRqrGJWwu"
      }
    },
    {
      "cell_type": "code",
      "source": [
        "hours_worked = int(input( '일한 시간을 입력하시오 ') )\n",
        "pay_rate = int(input('시급을 입력하시오 ( 23기준 9620원 ) :'))\n",
        "monthly_pay =  hours_worked * pay_rate\n",
        "print(( '일한시간은 (hours_worked)이고 , 시급은 (pay_rate)이며 월급여는 (monthly_pay)입니다' ))"
      ],
      "metadata": {
        "colab": {
          "base_uri": "https://localhost:8080/"
        },
        "id": "xj-Ry-60JccV",
        "outputId": "5d0e21d7-0ae6-4b29-e0a3-9da847518f40"
      },
      "execution_count": 4,
      "outputs": [
        {
          "output_type": "stream",
          "name": "stdout",
          "text": [
            "일한 시간을 입력하시오 1\n",
            "시급을 입력하시오 ( 23기준 9620원 ) :1\n",
            "일한시간은 (hours_worked)이고 , 시급은 (pay_rate)이며 월급여는 (monthly_pay)입니다\n"
          ]
        }
      ]
    },
    {
      "cell_type": "markdown",
      "source": [
        "3. 환율계산하는 코드작성\n",
        " -원의 변수는 won\n",
        " -달러의 변수는 usd\n",
        " -환전의 변수는 exchange\n"
      ],
      "metadata": {
        "id": "qKyjKBzAMooF"
      }
    },
    {
      "cell_type": "code",
      "source": [
        "won = int(input(\"환전할 금액을 입력(kor):\"))\n",
        "usd = int(input(\"현재 달러의 환율 입력(231031:1372):\"))\n",
        "exchange = won + usd\n",
        "print(\"환전할 금액은 (won)이며 , 금액은 (usd)이며 , 환전 금액은 (exchange)이다 \")"
      ],
      "metadata": {
        "colab": {
          "base_uri": "https://localhost:8080/"
        },
        "id": "1TT9BuV3M-JM",
        "outputId": "9836b891-26e8-48e3-b6ba-a30c4b02a49e"
      },
      "execution_count": 5,
      "outputs": [
        {
          "output_type": "stream",
          "name": "stdout",
          "text": [
            "환전할 금액을 입력(kor):1\n",
            "현재 달러의 환율 입력(231031:1372):2\n",
            "환전할 금액은 (won)이며 , 금액은 (usd)이며 , 환전 금액은 (exchange)이다 \n"
          ]
        }
      ]
    },
    {
      "cell_type": "markdown",
      "source": [
        "4. 화씨(fahrenheit)를 섭씨(celsius)로 변환하는 코드작성"
      ],
      "metadata": {
        "id": "nHsbXLIjOMT0"
      }
    },
    {
      "cell_type": "code",
      "source": [
        "fahrenheit = int(input( '화씨 온도을 입력하시오 ') )\n",
        "celsius = (fahrenheit-32) / 1.8\n",
        "print(('화씨온도는 (fahrenheit), 섭씨온도는 (celsius)도 입니다'))\n"
      ],
      "metadata": {
        "colab": {
          "base_uri": "https://localhost:8080/"
        },
        "id": "nyUIFBgwOdMc",
        "outputId": "c99cbb6d-ce1a-4c15-a781-b49d5de644ed"
      },
      "execution_count": 6,
      "outputs": [
        {
          "output_type": "stream",
          "name": "stdout",
          "text": [
            "화씨 온도을 입력하시오 1\n",
            "화씨온도는 (fahrenheit), 섭씨온도는 (celsius)도 입니다\n"
          ]
        }
      ]
    },
    {
      "cell_type": "code",
      "source": [
        "celsius = int(input( '섭씨 온도을 입력하시오 ') )\n",
        "fahrenheit = (celsius * 1.8) + 32\n",
        "print(('섭씨온도는 (celsius) , 화씨온도는 (fahrenheit)'))\n"
      ],
      "metadata": {
        "colab": {
          "base_uri": "https://localhost:8080/"
        },
        "id": "9F1KdFsoP7ZM",
        "outputId": "bba56f8f-3889-4214-eaad-7bca6547f7aa"
      },
      "execution_count": 7,
      "outputs": [
        {
          "output_type": "stream",
          "name": "stdout",
          "text": [
            "섭씨 온도을 입력하시오 3\n",
            "섭씨온도는 (celsius) , 화씨온도는 (fahrenheit)\n"
          ]
        }
      ]
    }
  ]
}