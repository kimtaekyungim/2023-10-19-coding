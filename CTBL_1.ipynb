{
  "nbformat": 4,
  "nbformat_minor": 0,
  "metadata": {
    "colab": {
      "provenance": [],
      "authorship_tag": "ABX9TyPqVpzAwKeEHovMvl5zn2II",
      "include_colab_link": true
    },
    "kernelspec": {
      "name": "python3",
      "display_name": "Python 3"
    },
    "language_info": {
      "name": "python"
    }
  },
  "cells": [
    {
      "cell_type": "markdown",
      "metadata": {
        "id": "view-in-github",
        "colab_type": "text"
      },
      "source": [
        "<a href=\"https://colab.research.google.com/github/kimtaekyungim/2023-10-19-coding/blob/main/CTBL_1.ipynb\" target=\"_parent\"><img src=\"https://colab.research.google.com/assets/colab-badge.svg\" alt=\"Open In Colab\"/></a>"
      ]
    },
    {
      "cell_type": "markdown",
      "source": [
        "1. 학생으로부터 성적을 입력받아 합격유무를 출력하는 코드작성\n",
        "- 사용변수 : grade\n",
        "- 사용수식 : grade>= 70\n"
      ],
      "metadata": {
        "id": "3Bfte2sE1AQv"
      }
    },
    {
      "cell_type": "code",
      "execution_count": null,
      "metadata": {
        "id": "SBRfpvZd0_wi"
      },
      "outputs": [],
      "source": [
        "Grade = int(input(' 성적입력 : '))\n",
        "if Grade >= 70 :\n",
        "  print ( '70이상으로 합격 ')\n",
        "else:\n",
        "  print ( '70이하는 불합격 ')\n"
      ]
    },
    {
      "cell_type": "markdown",
      "source": [
        "2. 쇼핑물의 배송료를 게산하는 코드작성\n",
        "*변수명: price , shipping_cost\n",
        "*수식: price >= 20000\n",
        "*shipping_cost = 3000"
      ],
      "metadata": {
        "id": "5XJNk89h3t7M"
      }
    },
    {
      "cell_type": "code",
      "source": [
        "price  =  int(input( ' 구입금액 입력 : '))\n",
        "if price >=  20000:\n",
        " shipping_cost = 0\n",
        " print ( ' 구입금액이 {price}원 이상입니다. ')\n",
        "else:\n",
        "  shipping_cost = 3000\n",
        "  print ( ' 구입금액이 2만원 이하입니다. ')\n",
        "  print (['구입금액이 2만원 미만 이므로 {shipping_cost} 입니다 '])"
      ],
      "metadata": {
        "id": "P8CaZs5q3s79"
      },
      "execution_count": null,
      "outputs": []
    },
    {
      "cell_type": "markdown",
      "source": [
        "3. 근무시간에 따라 초과근무와 정상근무를 판별하는 코드 작성\n",
        " - 변수 : work_hour\n",
        " -수식 :>> , 기준시간 : 72시간\n",
        ""
      ],
      "metadata": {
        "id": "VT2oDhyb7_wD"
      }
    },
    {
      "cell_type": "code",
      "source": [
        "work_hour=  int(input( ' 근무시간 입력 : '))\n",
        "if work_hour  >>  72 :\n",
        " print ( ' 초과근무하였습니다. ')\n",
        "else:\n",
        " print ( ' 정상근무하였습니다. ')\n",
        "\n",
        "\n"
      ],
      "metadata": {
        "id": "NnfvNFP98uVb"
      },
      "execution_count": null,
      "outputs": []
    },
    {
      "cell_type": "markdown",
      "source": [
        "4. 점수를 입력받아서 짝수인지 홀수인지 판별하는 코드 작성\n",
        "- 변수 : num\n",
        "- 수식 : ( num % 2 ) != 0:\n"
      ],
      "metadata": {
        "id": "nDhVDtEO-Ca6"
      }
    },
    {
      "cell_type": "code",
      "source": [
        "num =  int(input( ' 점수를 입력하시오: '))\n",
        "if ( num % 2 ) != 0:\n",
        " print ( ' 홀수입니다. ')\n",
        "else:\n",
        "  print ( ' 짝수입니다. ')"
      ],
      "metadata": {
        "id": "IJPuZbnq-kHp"
      },
      "execution_count": null,
      "outputs": []
    },
    {
      "cell_type": "markdown",
      "source": [
        "5. 사용자의 이름과 나이를 입력받고 , 답변하는 코드 작성\n",
        " - 입력 : 성명 , name\n",
        " - 입력 : 나이 , age\n",
        " - 수식 : if age <= 20 :\n",
        "\n",
        " 최종출력물\n",
        " - 이름을 입력하시오\n",
        " - 나이를 입력하시오\n",
        " - (1) 프로그래밍을 배우는 최적의 나이입니다\n",
        " - (2) 아직도 늦지 않았습니다 . 도전정신\n",
        ""
      ],
      "metadata": {
        "id": "PooOKrP7Az9x"
      }
    },
    {
      "cell_type": "code",
      "source": [
        "name =  int(input( ' 이름를 입력하시오: '))\n",
        "age =  int(input( ' 나이를 입력하시오: '))\n",
        "if age <= 20 :\n",
        "  print ( ' 프로그래밍을 배우는 최적의 나이입니다  ')\n",
        "else :\n",
        "  print ( '  아직도 늦지 않았습니다 . 도전정신  ')\n",
        "\n",
        "\n",
        "\n",
        "\n",
        "\n",
        "\n"
      ],
      "metadata": {
        "id": "3rG9w-vMByco"
      },
      "execution_count": null,
      "outputs": []
    }
  ]
}